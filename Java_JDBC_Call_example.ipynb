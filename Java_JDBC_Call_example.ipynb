{
  "nbformat": 4,
  "nbformat_minor": 0,
  "metadata": {
    "colab": {
      "provenance": []
    },
    "kernelspec": {
      "name": "python3",
      "display_name": "Python 3"
    },
    "language_info": {
      "name": "python"
    }
  },
  "cells": [
    {
      "cell_type": "code",
      "execution_count": null,
      "metadata": {
        "id": "VIAb3qfmIUku"
      },
      "outputs": [],
      "source": [
        "import java.sql.*;\n",
        "\n",
        "public class JDBCDemo {\n",
        "   public static void main(String[] args) {\n",
        "      Connection conn = null;\n",
        "      Statement stmt = null;\n",
        "      ResultSet rs = null;\n",
        "      try {\n",
        "         // Load the JDBC driver\n",
        "         Class.forName(\"com.mysql.jdbc.Driver\");\n",
        "\n",
        "         // Connect to the database\n",
        "         conn = DriverManager.getConnection(\"jdbc:mysql://localhost/mydatabase\", \"root\", \"password\");\n",
        "\n",
        "         // Create a statement object\n",
        "         stmt = conn.createStatement();\n",
        "\n",
        "         // Execute the query\n",
        "         rs = stmt.executeQuery(\"SELECT * FROM mytable\");\n",
        "\n",
        "         // Process the results\n",
        "         while (rs.next()) {\n",
        "            int id = rs.getInt(\"id\");\n",
        "            String name = rs.getString(\"name\");\n",
        "            double price = rs.getDouble(\"price\");\n",
        "\n",
        "            System.out.println(\"ID: \" + id + \", Name: \" + name + \", Price: \" + price);\n",
        "         }\n",
        "      } catch (SQLException ex) {\n",
        "         ex.printStackTrace();\n",
        "      } catch (ClassNotFoundException ex) {\n",
        "         ex.printStackTrace();\n",
        "      } finally {\n",
        "         try {\n",
        "            // Close the result set, statement, and connection\n",
        "            rs.close();\n",
        "            stmt.close();\n",
        "            conn.close();\n",
        "         } catch (SQLException ex) {\n",
        "            ex.printStackTrace();\n",
        "         }\n",
        "      }\n",
        "   }\n",
        "}\n"
      ]
    }
  ]
}